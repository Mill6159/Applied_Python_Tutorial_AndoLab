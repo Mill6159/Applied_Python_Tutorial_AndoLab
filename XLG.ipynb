{
 "cells": [
  {
   "cell_type": "code",
   "execution_count": 49,
   "metadata": {
    "collapsed": true
   },
   "outputs": [
    {
     "name": "stdout",
     "output_type": "stream",
     "text": [
      "Using matplotlib backend: MacOSX\n"
     ]
    }
   ],
   "source": [
    "from matplotlib import pyplot as plt\n",
    "import numpy as np\n",
    "from scipy.optimize import curve_fit as cf\n",
    "%matplotlib\n",
    "\n",
    "data = np.loadtxt(\"6mt9.pdb.dat\",\n",
    "                  dtype={'names': ('q', 'I(q)', 'I(q)_Error'),'formats': (np.float, np.float, np.float)}, skiprows=2)\n",
    "\n"
   ]
  },
  {
   "cell_type": "code",
   "execution_count": 50,
   "outputs": [],
   "source": [
    "'''Before doing any analysis, we need to define a few functions\n",
    "Start with a basic function that we will pass into a NLS algorithm\n",
    "& write our own function that takes into consideration signal error\n",
    "'''\n",
    "\n",
    "def lineModel(x,m,b):\n",
    "    return b*x+m\n",
    "\n",
    "def lsqfity_with_sigmas(X, Y, SIG):\n",
    "    \"\"\" This is a special version of linear least squares that uses\n",
    "    known sigma values of Y to calculate standard error in slope and\n",
    "    intercept. The actual fit is also SIGMA-weighted\n",
    "    \"\"\"\n",
    "    # X, Y, SIG = map(np.asanyarray, (X, Y, SIG))\n",
    "    # print \"SIG: \", SIG\n",
    "    # print \"I: \", Y\n",
    "    XSIG2 = np.sum(X / (SIG ** 2))\n",
    "    X2SIG2 = np.sum((X ** 2) / (SIG ** 2))\n",
    "    INVSIG2 = np.sum(1.0 / (SIG ** 2))\n",
    "    XYSIG2 = np.sum(X * Y / (SIG ** 2))\n",
    "    YSIG2 = np.sum(Y / (SIG ** 2))\n",
    "    delta = INVSIG2 * X2SIG2 - XSIG2 ** 2\n",
    "    # print \":::: \", XSIG2, X2SIG2, INVSIG2, XYSIG2, YSIG2, \"delta: \", delta\n",
    "    smy = X2SIG2 / delta\n",
    "    sby = INVSIG2 / delta\n",
    "    my = (X2SIG2 * YSIG2 - XSIG2 * XYSIG2) / delta\n",
    "    by = (INVSIG2 * XYSIG2 - XSIG2 * YSIG2) / delta\n",
    "    # ouput intercept(my), slope(by), sigma intercept(smy), sigma slope(sby)\n",
    "    return my, by, smy, sby\n",
    "\n",
    "\n"
   ],
   "metadata": {
    "collapsed": false,
    "pycharm": {
     "name": "#%%\n"
    }
   }
  },
  {
   "cell_type": "code",
   "execution_count": 51,
   "outputs": [
    {
     "name": "stdout",
     "output_type": "stream",
     "text": [
      "[  18.2718218  -243.05713112]\n",
      "18.277101673064315 -244.329220304641\n",
      "The Rg(A) determined from scipy fit: 27.07\n",
      "The Rg(A) determined from $our$ fit: 27.00\n"
     ]
    }
   ],
   "source": [
    "'''Now we have a way to perform Guiner analysis\n",
    "1st attempt will use scipy\n",
    "2nd attempt will use our lsqfity_with_sigmas function\n",
    "& we will compare the results\n",
    "'''\n",
    "nmin=0\n",
    "nmax=120\n",
    "\n",
    "guess=[12,-5]\n",
    "c,cov = cf(lineModel, data['q'][nmin:nmax]**2, np.log(data['I(q)'][nmin:nmax]),guess,sigma=data['I(q)_Error'][nmin:nmax]/data['I(q)'][nmin:nmax])\n",
    "print(c)\n",
    "\n",
    "inter,slope,siginter,slopeint = lsqfity_with_sigmas(data['q'][nmin:nmax]**2,\n",
    "                                                    np.log(data['I(q)'][nmin:nmax]),np.log(data['I(q)_Error'][nmin:nmax]))\n",
    "print(inter,slope)\n",
    "\n",
    "plt.plot(data['q'][nmin:nmax]**2, np.log(data['I(q)'][nmin:nmax]))\n",
    "plt.plot(data['q'][nmin:nmax]**2, lineModel(data['q'][nmin:nmax]**2,inter,slope))\n",
    "plt.show()\n",
    "\n",
    "'''Extract and print out the Rg value from both determinations'''\n",
    "\n",
    "print('The Rg(A) determined from scipy fit: %.2f'% np.sqrt(-3*slope))\n",
    "print('The Rg(A) determined from our fit: %.2f'%np.sqrt(-3*c[1]))"
   ],
   "metadata": {
    "collapsed": false,
    "pycharm": {
     "name": "#%%\n"
    }
   }
  }
 ],
 "metadata": {
  "kernelspec": {
   "name": "python3",
   "language": "python",
   "display_name": "Python 3"
  },
  "language_info": {
   "codemirror_mode": {
    "name": "ipython",
    "version": 2
   },
   "file_extension": ".py",
   "mimetype": "text/x-python",
   "name": "python",
   "nbconvert_exporter": "python",
   "pygments_lexer": "ipython2",
   "version": "2.7.6"
  }
 },
 "nbformat": 4,
 "nbformat_minor": 0
}